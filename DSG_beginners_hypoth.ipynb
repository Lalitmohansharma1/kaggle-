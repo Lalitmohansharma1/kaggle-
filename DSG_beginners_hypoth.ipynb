{
  "nbformat": 4,
  "nbformat_minor": 0,
  "metadata": {
    "colab": {
      "name": "DSG beginners hypoth.ipynb",
      "provenance": [],
      "collapsed_sections": [],
      "mount_file_id": "1ShBzQJJk2q2_Gl80jhlafk2c-0tCp9Vo",
      "authorship_tag": "ABX9TyPf7XOeSNT3g2zPTbXJIT9q",
      "include_colab_link": true
    },
    "kernelspec": {
      "name": "python3",
      "display_name": "Python 3"
    },
    "language_info": {
      "name": "python"
    }
  },
  "cells": [
    {
      "cell_type": "markdown",
      "metadata": {
        "id": "view-in-github",
        "colab_type": "text"
      },
      "source": [
        "<a href=\"https://colab.research.google.com/github/Lalitmohansharma1/kaggle-/blob/main/DSG_beginners_hypoth.ipynb\" target=\"_parent\"><img src=\"https://colab.research.google.com/assets/colab-badge.svg\" alt=\"Open In Colab\"/></a>"
      ]
    },
    {
      "cell_type": "code",
      "source": [
        "# from google.colab import drive\n",
        "# drive.mount('/content/drive')"
      ],
      "metadata": {
        "id": "8f9NzW6ng9Hr"
      },
      "execution_count": 40,
      "outputs": []
    },
    {
      "cell_type": "code",
      "execution_count": 41,
      "metadata": {
        "id": "Q0oD7LUsgW_V"
      },
      "outputs": [],
      "source": [
        "import numpy as np # linear algebra\n",
        "import pandas as pd # data processing, CSV file I/O (e.g. pd.read_csv)\n",
        "%matplotlib inline\n",
        "from sklearn import preprocessing\n",
        "\n",
        "import matplotlib as mpl\n",
        "import matplotlib.pyplot as plt\n",
        "\n",
        "mpl.style.use('ggplot')  # optional: for ggplot-like style"
      ]
    },
    {
      "cell_type": "code",
      "source": [
        "train = pd.read_csv(\"/content/drive/MyDrive/kaggle/dsg beginners hypothesis/beg-hyp/weather_train.csv\")\n",
        "test = pd.read_csv(\"/content/drive/MyDrive/kaggle/dsg beginners hypothesis/beg-hyp/weather_test.csv\")"
      ],
      "metadata": {
        "id": "xAqufY3AiNxQ"
      },
      "execution_count": 42,
      "outputs": []
    },
    {
      "cell_type": "code",
      "source": [
        "train "
      ],
      "metadata": {
        "id": "OB-uQahBisV-"
      },
      "execution_count": null,
      "outputs": []
    },
    {
      "cell_type": "code",
      "source": [
        "test"
      ],
      "metadata": {
        "id": "sjMvYDGpjHV8"
      },
      "execution_count": null,
      "outputs": []
    },
    {
      "cell_type": "code",
      "source": [
        "train = train.rename(columns={\"DATE (YYYY/MM/DD)\":\"date\",\"Snow Depth [cm]\":\"depth\"})\n",
        "test = test.rename(columns={\"DATE (YYYY/MM/DD)\":\"date\",\"Snow Depth [cm]\":\"depth\"})"
      ],
      "metadata": {
        "id": "f1MuURW9jKmb"
      },
      "execution_count": 45,
      "outputs": []
    },
    {
      "cell_type": "code",
      "source": [
        "from datetime import datetime\n",
        "import time"
      ],
      "metadata": {
        "id": "Wa_YLbsejNF4"
      },
      "execution_count": 46,
      "outputs": []
    },
    {
      "cell_type": "code",
      "source": [
        "train.date=pd.to_datetime(train.date)\n",
        "train['year']=train[\"date\"].dt.year\n",
        "train[\"month\"]=train[\"date\"].dt.month\n",
        "train[\"day\"]=train[\"date\"].dt.day\n",
        "train.drop(columns=[\"Unnamed: 0\",\"date\"],axis=1,inplace=True)\n",
        "train[['Hour', 'Minutes']] = train['MST'].str.split(':', expand=True)\n",
        "# display the dataframe\n",
        "train"
      ],
      "metadata": {
        "id": "_68Uf7L7jPpB"
      },
      "execution_count": null,
      "outputs": []
    },
    {
      "cell_type": "code",
      "source": [
        "train.drop(columns=[\"MST\",\"year\",\"day\",\"Hour\",\"Minutes\"],axis=1,inplace=True)\n",
        "train[\"depth\"] = train[\"depth\"]/100\n",
        "train"
      ],
      "metadata": {
        "id": "czJv8OuUjSE2"
      },
      "execution_count": null,
      "outputs": []
    },
    {
      "cell_type": "code",
      "source": [
        "plt.scatter(train.index, train.depth ,color = \"blue\")\n",
        "plt.xlabel(\"index\")\n",
        "plt.ylabel(\"snow depth\")\n",
        "plt.show()"
      ],
      "metadata": {
        "id": "1m6JYvUYjVqm"
      },
      "execution_count": null,
      "outputs": []
    },
    {
      "cell_type": "code",
      "source": [
        "train[\"depth\"].value_counts()"
      ],
      "metadata": {
        "id": "RxuIKp3ujizS"
      },
      "execution_count": null,
      "outputs": []
    },
    {
      "cell_type": "code",
      "source": [
        "test.date=pd.to_datetime(test.date)\n",
        "test['year']=test[\"date\"].dt.year\n",
        "test[\"month\"]=test[\"date\"].dt.month\n",
        "test[\"day\"]=test[\"date\"].dt.day\n",
        "test.drop(columns=[\"Unnamed: 0\",\"date\"],axis=1,inplace=True)\n",
        "test[['Hour', 'Minutes']] = test['MST'].str.split(':', expand=True)\n",
        "test"
      ],
      "metadata": {
        "id": "5RX1Mt5Fjpuf"
      },
      "execution_count": null,
      "outputs": []
    },
    {
      "cell_type": "code",
      "source": [
        "test.drop(columns=[\"MST\",\"year\",\"day\",\"Hour\",\"Minutes\"],axis=1,inplace=True)"
      ],
      "metadata": {
        "id": "UDDL1OTqjsD8"
      },
      "execution_count": 52,
      "outputs": []
    },
    {
      "cell_type": "code",
      "source": [
        "Features=[\"Global CMP22 (vent/cor) [W/m^2]\",\"Direct sNIP [W/m^2]\",\"Azimuth Angle [degrees]\",\"Tower Dry Bulb Temp [deg C]\",\"Tower Wet Bulb Temp [deg C]\",\"Tower Dew Point Temp [deg C]\",\"Tower RH [%]\",\"Peak Wind Speed @ 6ft [m/s]\",\"Avg Wind Direction @ 6ft [deg from N]\",\"Station Pressure [mBar]\",\"Precipitation (Accumulated) [mm]\",\"Moisture\",\"Albedo (CMP11)\",\"Cloud Type\",\"Solar Zenith Angle\",\"month\"]\n",
        "Target=[\"depth\"]"
      ],
      "metadata": {
        "id": "0l1EY4L1kRd0"
      },
      "execution_count": 53,
      "outputs": []
    },
    {
      "cell_type": "code",
      "source": [
        "X=np.asarray(train[Features])\n",
        "X"
      ],
      "metadata": {
        "id": "N68nWqeykaKI"
      },
      "execution_count": null,
      "outputs": []
    },
    {
      "cell_type": "code",
      "source": [
        "Y= np.asarray(train[Target])\n",
        "Y"
      ],
      "metadata": {
        "id": "bjRsQZARkxrl"
      },
      "execution_count": null,
      "outputs": []
    },
    {
      "cell_type": "code",
      "source": [
        "X = preprocessing.StandardScaler().fit(X).transform(X)\n",
        "X"
      ],
      "metadata": {
        "id": "1cPNbosAlBk1"
      },
      "execution_count": null,
      "outputs": []
    },
    {
      "cell_type": "markdown",
      "source": [
        "# Model making."
      ],
      "metadata": {
        "id": "cSHNDZfzlffV"
      }
    },
    {
      "cell_type": "code",
      "source": [
        "from sklearn.model_selection import train_test_split\n",
        "X_train,X_test,y_train,y_test= train_test_split(X,Y,test_size=0.3,random_state=6)"
      ],
      "metadata": {
        "id": "ugreTm_6mnC3"
      },
      "execution_count": 57,
      "outputs": []
    },
    {
      "cell_type": "code",
      "source": [
        "from sklearn import linear_model\n",
        "from sklearn.linear_model import LinearRegression\n",
        "\n",
        "regr = linear_model.LinearRegression()"
      ],
      "metadata": {
        "id": "abZ3VsH9lpb0"
      },
      "execution_count": 58,
      "outputs": []
    },
    {
      "cell_type": "code",
      "source": [
        "regr.fit(X_train,y_train)"
      ],
      "metadata": {
        "id": "qfE1heSWme1f"
      },
      "execution_count": null,
      "outputs": []
    },
    {
      "cell_type": "code",
      "source": [
        "print ('Coefficients: ', regr.coef_)\n",
        "print ('Intercept: ',regr.intercept_)"
      ],
      "metadata": {
        "id": "QLK_XjVzsto6"
      },
      "execution_count": null,
      "outputs": []
    },
    {
      "cell_type": "code",
      "source": [
        "yhat=regr.predict(X_test)\n",
        "yhat"
      ],
      "metadata": {
        "id": "FYPZsyxpnDcA"
      },
      "execution_count": null,
      "outputs": []
    },
    {
      "cell_type": "code",
      "source": [
        "from sklearn.metrics import r2_score\n",
        "\n",
        "print(\"R2-score: %.2f\" % r2_score(y_test, yhat) )"
      ],
      "metadata": {
        "id": "xGKKpKeOnHSY"
      },
      "execution_count": null,
      "outputs": []
    },
    {
      "cell_type": "code",
      "source": [
        "from sklearn.metrics import r2_score\n",
        "# print('MSE: %.2f' % mean_squared_error(y_test, yhat))\n",
        "print('R^2: %.2f' % r2_score(y_test,yhat))\n",
        "print(\"Mean absolute error: %.2f\" % np.mean(np.absolute(yhat - y_test)))"
      ],
      "metadata": {
        "id": "zja72pZttaqG"
      },
      "execution_count": null,
      "outputs": []
    },
    {
      "cell_type": "code",
      "source": [
        "test = preprocessing.StandardScaler().fit(test).transform(test)"
      ],
      "metadata": {
        "id": "v7a4Vhh3thtP"
      },
      "execution_count": 65,
      "outputs": []
    },
    {
      "cell_type": "code",
      "source": [
        "youtput=regr.predict(test)\n",
        "youtput"
      ],
      "metadata": {
        "id": "B_92w_3r-iSx"
      },
      "execution_count": null,
      "outputs": []
    },
    {
      "cell_type": "code",
      "source": [
        "output = pd.read_csv(\"/content/drive/MyDrive/kaggle/dsg beginners hypothesis/beg-hyp/sample_submission.csv\",index_col=\"Id\")\n",
        "output['Snow Depth [cm]']= youtput*100\n",
        "output"
      ],
      "metadata": {
        "id": "HcZaeKSu_R3L"
      },
      "execution_count": null,
      "outputs": []
    },
    {
      "cell_type": "code",
      "source": [
        "output.to_csv('submission.csv')"
      ],
      "metadata": {
        "id": "eTGoyLsG_XaS"
      },
      "execution_count": 72,
      "outputs": []
    },
    {
      "cell_type": "code",
      "source": [
        ""
      ],
      "metadata": {
        "id": "XMxXMzjsAEha"
      },
      "execution_count": null,
      "outputs": []
    }
  ]
}